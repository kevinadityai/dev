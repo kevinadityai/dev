{
 "cells": [
  {
   "cell_type": "code",
   "execution_count": 1,
   "metadata": {},
   "outputs": [
    {
     "data": {
      "text/html": [
       "<div>\n",
       "<style scoped>\n",
       "    .dataframe tbody tr th:only-of-type {\n",
       "        vertical-align: middle;\n",
       "    }\n",
       "\n",
       "    .dataframe tbody tr th {\n",
       "        vertical-align: top;\n",
       "    }\n",
       "\n",
       "    .dataframe thead th {\n",
       "        text-align: right;\n",
       "    }\n",
       "</style>\n",
       "<table border=\"1\" class=\"dataframe\">\n",
       "  <thead>\n",
       "    <tr style=\"text-align: right;\">\n",
       "      <th></th>\n",
       "      <th>question</th>\n",
       "      <th>answer</th>\n",
       "      <th>category</th>\n",
       "    </tr>\n",
       "  </thead>\n",
       "  <tbody>\n",
       "    <tr>\n",
       "      <th>0</th>\n",
       "      <td>Di mana ada lokasi Rumah Sakit Siloam?</td>\n",
       "      <td>Ada 40 Rumah Sakit modern yang terdiri dari 13...</td>\n",
       "      <td>FAQ Website</td>\n",
       "    </tr>\n",
       "    <tr>\n",
       "      <th>1</th>\n",
       "      <td>Apa jenis kamar rawat inap yang tersedia?</td>\n",
       "      <td>Siloam Hospitals menawarkan banyak pilihan jen...</td>\n",
       "      <td>FAQ Website</td>\n",
       "    </tr>\n",
       "    <tr>\n",
       "      <th>2</th>\n",
       "      <td>Apa standar keamanan suplai darah yang diambil...</td>\n",
       "      <td>Untuk memastikan keamanan dan kualitas suplai ...</td>\n",
       "      <td>FAQ Website</td>\n",
       "    </tr>\n",
       "    <tr>\n",
       "      <th>3</th>\n",
       "      <td>Fasilitas apa yang dimiliki pusat keunggulan R...</td>\n",
       "      <td>Kardiologi: Di Cardiac Center kami terdapat Un...</td>\n",
       "      <td>FAQ Website</td>\n",
       "    </tr>\n",
       "    <tr>\n",
       "      <th>4</th>\n",
       "      <td>Apa standar kualitas yang dipatuhi oleh Siloam...</td>\n",
       "      <td>Siloam Hospitals mematuhi standar kualitas dar...</td>\n",
       "      <td>FAQ Website</td>\n",
       "    </tr>\n",
       "  </tbody>\n",
       "</table>\n",
       "</div>"
      ],
      "text/plain": [
       "                                            question  \\\n",
       "0             Di mana ada lokasi Rumah Sakit Siloam?   \n",
       "1          Apa jenis kamar rawat inap yang tersedia?   \n",
       "2  Apa standar keamanan suplai darah yang diambil...   \n",
       "3  Fasilitas apa yang dimiliki pusat keunggulan R...   \n",
       "4  Apa standar kualitas yang dipatuhi oleh Siloam...   \n",
       "\n",
       "                                              answer     category  \n",
       "0  Ada 40 Rumah Sakit modern yang terdiri dari 13...  FAQ Website  \n",
       "1  Siloam Hospitals menawarkan banyak pilihan jen...  FAQ Website  \n",
       "2  Untuk memastikan keamanan dan kualitas suplai ...  FAQ Website  \n",
       "3  Kardiologi: Di Cardiac Center kami terdapat Un...  FAQ Website  \n",
       "4  Siloam Hospitals mematuhi standar kualitas dar...  FAQ Website  "
      ]
     },
     "execution_count": 1,
     "metadata": {},
     "output_type": "execute_result"
    }
   ],
   "source": [
    "import pandas as pd\n",
    "\n",
    "faq_df = pd.read_json(\"../data/full_faq.json\")\n",
    "faq_df.head()"
   ]
  },
  {
   "cell_type": "code",
   "execution_count": 2,
   "metadata": {},
   "outputs": [
    {
     "name": "stderr",
     "output_type": "stream",
     "text": [
      "/workspaces/dev/venv/lib/python3.12/site-packages/tqdm/auto.py:21: TqdmWarning: IProgress not found. Please update jupyter and ipywidgets. See https://ipywidgets.readthedocs.io/en/stable/user_install.html\n",
      "  from .autonotebook import tqdm as notebook_tqdm\n"
     ]
    }
   ],
   "source": [
    "from sentence_transformers import SentenceTransformer\n",
    "\n",
    "model = SentenceTransformer(\n",
    "    \"intfloat/multilingual-e5-large\",\n",
    "    trust_remote_code=True\n",
    ")"
   ]
  },
  {
   "cell_type": "code",
   "execution_count": 3,
   "metadata": {},
   "outputs": [
    {
     "name": "stdout",
     "output_type": "stream",
     "text": [
      "Question embeddings shape: (349, 1024)\n",
      "Answer embeddings shape: (349, 1024)\n",
      "Combined embeddings shape: (349, 1024)\n"
     ]
    }
   ],
   "source": [
    "question_embeddings = model.encode(\n",
    "    faq_df[\"question\"].tolist()\n",
    ")\n",
    "\n",
    "answer_embeddings = model.encode(\n",
    "    faq_df[\"answer\"].tolist()\n",
    ")\n",
    "\n",
    "combined_texts = [\n",
    "    f\"{q}\\n{a}\" for q, a in zip(faq_df[\"question\"], faq_df[\"answer\"])\n",
    "]\n",
    "\n",
    "combined_embeddings = model.encode(combined_texts)\n",
    "\n",
    "print(\"Question embeddings shape:\", question_embeddings.shape)\n",
    "print(\"Answer embeddings shape:\", answer_embeddings.shape)\n",
    "print(\"Combined embeddings shape:\", combined_embeddings.shape)\n"
   ]
  },
  {
   "cell_type": "code",
   "execution_count": 5,
   "metadata": {},
   "outputs": [
    {
     "data": {
      "text/plain": [
       "array([[ 0.00825853, -0.00684039, -0.01008988, ..., -0.04223974,\n",
       "        -0.02853844,  0.01105917],\n",
       "       [ 0.01679304,  0.00366306, -0.02188492, ..., -0.0539857 ,\n",
       "        -0.02692915,  0.01102671],\n",
       "       [ 0.0082514 , -0.02746587, -0.03842525, ..., -0.039239  ,\n",
       "        -0.00496398,  0.02464821],\n",
       "       ...,\n",
       "       [-0.01962173, -0.01879275, -0.02104165, ..., -0.02994614,\n",
       "        -0.01923648,  0.04575821],\n",
       "       [-0.00625097,  0.00917968, -0.00012745, ..., -0.01775001,\n",
       "        -0.05250166,  0.03142332],\n",
       "       [-0.0138129 ,  0.00152469, -0.0200156 , ..., -0.02324898,\n",
       "        -0.02810773,  0.04096591]], dtype=float32)"
      ]
     },
     "execution_count": 5,
     "metadata": {},
     "output_type": "execute_result"
    }
   ],
   "source": [
    "question_embeddings"
   ]
  },
  {
   "cell_type": "code",
   "execution_count": 6,
   "metadata": {},
   "outputs": [
    {
     "data": {
      "text/plain": [
       "True"
      ]
     },
     "execution_count": 6,
     "metadata": {},
     "output_type": "execute_result"
    }
   ],
   "source": [
    "from qdrant_client import QdrantClient, models\n",
    "\n",
    "dimensions = 1024\n",
    "distance = models.Distance.COSINE\n",
    "\n",
    "client = QdrantClient(\"http://localhost:6333\")\n",
    "# client.delete_collection(\"faq\")\n",
    "client.create_collection(\n",
    "    collection_name=\"faq\",\n",
    "    vectors_config={\n",
    "        \"question\": models.VectorParams(\n",
    "            size=dimensions,\n",
    "            distance=distance,\n",
    "        ),\n",
    "        \"answer\": models.VectorParams(\n",
    "            size=dimensions,\n",
    "            distance=distance,\n",
    "        ),\n",
    "        \"combined\": models.VectorParams(\n",
    "            size=dimensions,\n",
    "            distance=distance,\n",
    "        ),\n",
    "    },\n",
    "    optimizers_config=models.OptimizersConfigDiff(\n",
    "        default_segment_number=2,\n",
    "        indexing_threshold=100,\n",
    "    ),\n",
    ")\n"
   ]
  },
  {
   "cell_type": "code",
   "execution_count": 7,
   "metadata": {},
   "outputs": [],
   "source": [
    "client.upload_collection(\n",
    "    collection_name=\"faq\",\n",
    "    vectors={\n",
    "        \"question\": question_embeddings,\n",
    "        \"answer\": answer_embeddings,\n",
    "        \"combined\": combined_embeddings\n",
    "    },\n",
    "    payload=faq_df.to_dict(orient=\"records\"),\n",
    "    ids=faq_df.index.tolist(),\n",
    "    batch_size=64,\n",
    ")\n"
   ]
  },
  {
   "cell_type": "code",
   "execution_count": 8,
   "metadata": {},
   "outputs": [
    {
     "data": {
      "text/plain": [
       "CountResult(count=349)"
      ]
     },
     "execution_count": 8,
     "metadata": {},
     "output_type": "execute_result"
    }
   ],
   "source": [
    "client.count(\"faq\")"
   ]
  },
  {
   "cell_type": "code",
   "execution_count": 9,
   "metadata": {},
   "outputs": [
    {
     "data": {
      "text/plain": [
       "CollectionInfo(status=<CollectionStatus.GREEN: 'green'>, optimizer_status=<OptimizersStatusOneOf.OK: 'ok'>, vectors_count=None, indexed_vectors_count=1047, points_count=349, segments_count=2, config=CollectionConfig(params=CollectionParams(vectors={'answer': VectorParams(size=1024, distance=<Distance.COSINE: 'Cosine'>, hnsw_config=None, quantization_config=None, on_disk=None, datatype=None, multivector_config=None), 'combined': VectorParams(size=1024, distance=<Distance.COSINE: 'Cosine'>, hnsw_config=None, quantization_config=None, on_disk=None, datatype=None, multivector_config=None), 'question': VectorParams(size=1024, distance=<Distance.COSINE: 'Cosine'>, hnsw_config=None, quantization_config=None, on_disk=None, datatype=None, multivector_config=None)}, shard_number=1, sharding_method=None, replication_factor=1, write_consistency_factor=1, read_fan_out_factor=None, on_disk_payload=True, sparse_vectors=None), hnsw_config=HnswConfig(m=16, ef_construct=100, full_scan_threshold=10000, max_indexing_threads=0, on_disk=False, payload_m=None), optimizer_config=OptimizersConfig(deleted_threshold=0.2, vacuum_min_vector_number=1000, default_segment_number=2, max_segment_size=None, memmap_threshold=None, indexing_threshold=100, flush_interval_sec=5, max_optimization_threads=None), wal_config=WalConfig(wal_capacity_mb=32, wal_segments_ahead=0), quantization_config=None, strict_mode_config=StrictModeConfig(enabled=False, max_query_limit=None, max_timeout=None, unindexed_filtering_retrieve=None, unindexed_filtering_update=None, search_max_hnsw_ef=None, search_allow_exact=None, search_max_oversampling=None, upsert_max_batchsize=None, max_collection_vector_size_bytes=None, read_rate_limit=None, write_rate_limit=None, max_collection_payload_size_bytes=None, filter_max_conditions=None, condition_max_size=None)), payload_schema={})"
      ]
     },
     "execution_count": 9,
     "metadata": {},
     "output_type": "execute_result"
    }
   ],
   "source": [
    "import time\n",
    "\n",
    "time.sleep(1.0)\n",
    "collection = client.get_collection(\"faq\")\n",
    "while collection.status != models.CollectionStatus.GREEN:\n",
    "    time.sleep(1.0)\n",
    "    collection = client.get_collection(\"faq\")\n",
    "    \n",
    "collection\n"
   ]
  },
  {
   "cell_type": "code",
   "execution_count": null,
   "metadata": {},
   "outputs": [
    {
     "name": "stderr",
     "output_type": "stream",
     "text": [
      "/tmp/ipykernel_24812/3062935410.py:35: DeprecationWarning: `search` method is deprecated and will be removed in the future. Use `query_points` instead.\n",
      "  question_results = client.search(\n",
      "/tmp/ipykernel_24812/3062935410.py:50: DeprecationWarning: `search` method is deprecated and will be removed in the future. Use `query_points` instead.\n",
      "  answer_results = client.search(\n",
      "/tmp/ipykernel_24812/3062935410.py:65: DeprecationWarning: `search` method is deprecated and will be removed in the future. Use `query_points` instead.\n",
      "  results = client.search(\n"
     ]
    },
    {
     "name": "stdout",
     "output_type": "stream",
     "text": [
      "#    Model                   P@20    Recall@20    MRR@20    NDCG@20\n",
      "---  ----------------------  ------  -----------  --------  ---------\n",
      "a    question_vectors        0.050ᵇ  1.000ᵇ       0.994ᵇ    0.996ᵇ\n",
      "b    answer_vectors          0.038   0.751        0.625     0.654\n",
      "c    question_answer_vector  0.050ᵇ  1.000ᵇ       0.981ᵇ    0.986ᵇ\n"
     ]
    }
   ],
   "source": [
    "import pandas as pd\n",
    "from collections import defaultdict\n",
    "from ranx import Qrels, Run, compare\n",
    "\n",
    "# 1. Prepare Qrels (Ground Truth)\n",
    "# -------------------------------\n",
    "# Each question should retrieve its own FAQ entry\n",
    "qrels_data = [{\n",
    "    \"query_id\": f\"q_{idx}\",\n",
    "    \"doc_id\": str(idx),\n",
    "    \"score\": 10  # Exact match\n",
    "} for idx in faq_df.index]\n",
    "\n",
    "qrels = Qrels.from_df(\n",
    "    pd.DataFrame(qrels_data),\n",
    "    q_id_col=\"query_id\",\n",
    "    doc_id_col=\"doc_id\",\n",
    "    score_col=\"score\",\n",
    ")\n",
    "\n",
    "# 2. Encode Questions\n",
    "# -------------------\n",
    "question_embeddings = model.encode(faq_df[\"question\"].tolist())\n",
    "\n",
    "# 3. Create Search Runs\n",
    "# ---------------------\n",
    "question_run_dict = defaultdict(dict)\n",
    "answer_run_dict = defaultdict(dict)\n",
    "combined_run_dict = defaultdict(dict)\n",
    "\n",
    "for idx, (q_emb, row) in enumerate(zip(question_embeddings, faq_df.iterrows())):\n",
    "    query_id = f\"q_{idx}\"\n",
    "    \n",
    "    # Search against QUESTION vectors\n",
    "    question_results = client.search(\n",
    "        collection_name=\"faq\",\n",
    "        query_vector=models.NamedVector(\n",
    "            name=\"question\",\n",
    "            vector=q_emb.tolist()\n",
    "        ),\n",
    "        limit=20,\n",
    "    )\n",
    "    for hit in question_results:\n",
    "        question_run_dict[query_id][str(hit.id)] = hit.score\n",
    "    \n",
    "    # Search against ANSWER vectors\n",
    "    answer_results = client.search(\n",
    "        collection_name=\"faq\",\n",
    "        query_vector=models.NamedVector(\n",
    "            name=\"answer\",\n",
    "            vector=q_emb.tolist()\n",
    "        ),\n",
    "        limit=20,\n",
    "    )\n",
    "    for hit in answer_results:\n",
    "        answer_run_dict[query_id][str(hit.id)] = hit.score\n",
    "\n",
    "    # Search against QUESTION ANSWER vectors\n",
    "    results = client.search(\n",
    "        collection_name=\"faq\",\n",
    "        query_vector=models.NamedVector(\n",
    "            name=\"combined\", \n",
    "            vector=q_emb.tolist()\n",
    "        ),\n",
    "        limit=20,\n",
    "    )\n",
    "    for hit in results:\n",
    "        combined_run_dict[query_id][str(hit.id)] = hit.score\n",
    "\n",
    "# 4. Create Run Objects\n",
    "# ---------------------\n",
    "question_run = Run(question_run_dict, name=\"question_vectors\")\n",
    "answer_run = Run(answer_run_dict, name=\"answer_vectors\")\n",
    "combined_run = Run(combined_run_dict, name=\"question_answer_vector\")\n",
    "\n",
    "# 5. Compare at k=20\n",
    "# ------------------\n",
    "report = compare(\n",
    "    qrels=qrels,\n",
    "    runs=[question_run, answer_run, combined_run],\n",
    "    metrics=[\"precision@20\", \"recall@20\", \"mrr@20\", \"ndcg@20\"],\n",
    ")\n",
    "\n",
    "print(report)"
   ]
  },
  {
   "cell_type": "code",
   "execution_count": 12,
   "metadata": {},
   "outputs": [],
   "source": [
    "test_list = [\n",
    "    { \"query\": \"siloam ada dimana saja\", \"expected\": \"Di mana ada lokasi Rumah Sakit Siloam?\" },\n",
    "    { \"query\": \"jam buka mcu\", \"expected\": \"Jam buka MCU / Medical Check Up?\" },\n",
    "    { \"query\": \"layanan kesehatan di rumah\", \"expected\": \"Apa itu Siloam at Home? Apakah Siloam memberikan layanan kesehatan di rumah atau Homecare?\" },\n",
    "    { \"query\": \"cek obat beli di siloam dari aplikasi\", \"expected\": \"Halo saya mau cek obat yang saya beli dari Siloam, bisakah dari aplikasi MySiloam?\" },\n",
    "    { \"query\": \"asuransi kerjasa sama dengan siloam\", \"expected\": \"Asuransi apa saja yang bekerja sama dengan Siloam?\" },\n",
    "    { \"query\": \"jenis kamar rawat inap apa saja\", \"expected\": \"Apa jenis kamar rawat inap yang tersedia?\" },\n",
    "    { \"query\": \"standar keamanan darah di rumah sakit seperti apa\", \"expected\": \"Apa standar keamanan suplai darah yang diambil di rumah sakit?\" },\n",
    "    { \"query\": \"fasilitas pusat keunggulan rumah sakit apa saja\", \"expected\": \"Fasilitas apa yang dimiliki pusat keunggulan Rumah Sakit?\" },\n",
    "    { \"query\": \"standar kualitas yang diterapkan siloam hospitals\", \"expected\": \"Apa standar kualitas yang dipatuhi oleh Siloam Hospitals?\" },\n",
    "    { \"query\": \"pembayaran apa saja tersedia di siloam hospitals\", \"expected\": \"Metode pembayaran apa yang tersedia di Siloam Hospitals?\" },\n",
    "    { \"query\": \"kamar rumah sakit menyediakan fasilitas apa saja\", \"expected\": \"Fasilitas apa yang disediakan di dalam kamar?\" },\n",
    "    { \"query\": \"apakah merokok diperbolehkan di rumah sakit\", \"expected\": \"Apakah merokok diperbolehkan di area rumah sakit?\" },\n",
    "    { \"query\": \"berapa banyak pasien di siloam hospitals tiap tahun\", \"expected\": \"Berapa banyak pasien yang dirawat Siloam Hospitals setiap tahun?\" },\n",
    "    { \"query\": \"apakah siloam hospitals memberikan perkiraan biaya perawatan\", \"expected\": \"Apakah rumah sakit Siloam menawarkan perkiraan biaya perawatan?\" },\n",
    "    { \"query\": \"asuransi kesehatan diterima di siloam hospitals\", \"expected\": \"Jenis asuransi kesehatan apa saja yang diterima di Siloam Hospitals?\" },\n",
    "    { \"query\": \"bagaimana jika dokter pilihan tidak ada\", \"expected\": \"Bagaimana jika dokter pilihan saya tidak tersedia?\" },\n",
    "    { \"query\": \"cara berkomunikasi dengan dokter bagi yang tidak fasih bahasa indonesia\", \"expected\": \"Saya tidak fasih berbahasa Indonesia. Bagaimana cara berkomunikasi dengan dokter?\" },\n",
    "    { \"query\": \"barang apa yang harus dibawa ke siloam hospital\", \"expected\": \"Barang apa saja yang perlu saya bawa ke Siloam Hospital?\" },\n",
    "    { \"query\": \"apakah perlu janji untuk spesialis\", \"expected\": \"Apakah saya perlu membuat janji untuk bertemu dengan spesialis?\" },\n",
    "    { \"query\": \"jam kunjungan pasien di rumah sakit\", \"expected\": \"Pada jam berapa pengunjung diperbolehkan untuk mengunjungi pasien?\" },\n",
    "    { \"query\": \"bolehkah kasih bunga atau hadiah ke pasien\", \"expected\": \"Apakah saya boleh memberikan bunga atau hadiah kepada pasien di Siloam Hospital?\" },\n",
    "    { \"query\": \"cara hubungi pasien di ICU\", \"expected\": \"Bagaimana saya bisa menghubungi pasien di Unit Perawatan Intensif?\" },\n",
    "    { \"query\": \"ada daftar hotel di sekitar siloam hospitals\", \"expected\": \"Apakah Anda memiliki daftar hotel dekat Rumah Sakit Siloam?\" },\n",
    "    { \"query\": \"tamu boleh kunjungan setelah jam kerja tidak\", \"expected\": \"Apakah tamu diizinkan untuk berkunjung setelah jam kerja?\" },\n",
    "    { \"query\": \"anak-anak boleh kunjungi pasien di rumah sakit\", \"expected\": \"Apakah anak-anak diperbolehkan mengunjungi pasien di Siloam Hospitals?\" },\n",
    "    { \"query\": \"dokumen apa yang harus dibawa untuk ambil medical report\", \"expected\": \"Dokumen apa saja yang harus saya bawa saat ingin mengambil medical report/formulir asuransi/dokumen medis?\" },\n",
    "    { \"query\": \"cara minta informasi medis\", \"expected\": \"Bagaimana cara saya meminta informasi medis saya?\" },\n",
    "    { \"query\": \"cara dapat salinan rekam medis\", \"expected\": \"Bagaimana saya bisa mendapatkan salinan rekam medis saya untuk diri saya sendiri atau untuk dikirimkan kepada orang lain selain diri saya sendiri, seperti dokter, pengacara, perusahaan asuransi atau orang lain?\" },\n",
    "    { \"query\": \"jam operasional mcu\", \"expected\": \"Jam buka MCU / Medical Check Up?\" },\n",
    "    { \"query\": \"apakah perlu puasa sebelum mcu\", \"expected\": \"Apakah MCU / Medical Check Up perlu melakukan puasa?\" },\n",
    "    { \"query\": \"berapa lama waktu untuk mcu test\", \"expected\": \"Berapa lama waktu yang dibutuhkan untuk MCU / Medical Check Up tes?\" },\n",
    "    { \"query\": \"paket mcu rekomendasi apa yang terlengkap\", \"expected\": \"Apa rekomendasi paket MCU / Medical Check Up terlengkap saat ini?\" },\n",
    "    { \"query\": \"apakah semua siloam hospitals sediakan mcu\", \"expected\": \"Apakah saya bisa melakukan MCU / Medical Check Up di semua Siloam?\" },\n",
    "    { \"query\": \"cara daftar mcu\", \"expected\": \"Bagaimana cara mendaftar MCU / Medical Check Up?\" },\n",
    "    { \"query\": \"apa yang harus dibawa untuk mcu\", \"expected\": \"Apa yang perlu dibawa ketika melakukan MCU / Medical Check Up?\" },\n",
    "    { \"query\": \"bedanya daftar mcu lewat website dan telepon\", \"expected\": \"Apa bedanya mendaftar MCU / Medical Check Up lewat website dengan lewat telepon/datang langsung?\" },\n",
    "    { \"query\": \"metode pembayaran untuk mcu\", \"expected\": \"Apa saja metode pembayaran pada pendaftaran MCU / Medical Check Up?\" },\n",
    "    { \"query\": \"hasil mcu yang didapatkan\", \"expected\": \"Hasil apa yang saya dapatkan setelah tes MCU / Medical Check Up di Siloam?\" },\n",
    "    { \"query\": \"berapa lama hasil mcu keluar\", \"expected\": \"Berapa lama hasil dari MCU / Medical Check Up tes?\" },\n",
    "    { \"query\": \"persiapan sebelum datang ke mcu\", \"expected\": \"Apa saja yang harus saya lakukan sebelum datang ke MCU / Medical Check Up (persiapan yang perlu saya lakukan)?\" },\n",
    "    { \"query\": \"siloam at home itu apa\", \"expected\": \"Apa itu Siloam at Home? Apakah Siloam memberikan layanan kesehatan di rumah atau Homecare?\" },\n",
    "    { \"query\": \"layanan siloam at home apa saja\", \"expected\": \"Layanan Siloam at Home apa saja yang diberikan oleh Siloam?\" },\n",
    "    { \"query\": \"cara pesan layanan siloam at home\", \"expected\": \"Bagaimana cara melakukan pemesanan layanan Siloam at Home?\" },\n",
    "    { \"query\": \"metode pembayaran untuk siloam at home\", \"expected\": \"Apa saja metode pembayaran yang saya bisa gunakan untuk Siloam at Home?\" },\n",
    "    { \"query\": \"apakah siloam at home sediakan perawat di rumah\", \"expected\": \"Apakah Siloam at Home memfasilitasi layanan perawat tinggal di rumah pasien?\" },\n",
    "    { \"query\": \"cek obat dari aplikasi siloam\", \"expected\": \"Halo saya mau cek obat yang saya beli dari Siloam, bisakah dari aplikasi MySiloam?\" },\n",
    "    { \"query\": \"cara pesan dokter lewat aplikasi mysiloam\", \"expected\": \"Bagaimana cara pesan dokter dari aplikasi MySiloam?\" },\n",
    "    { \"query\": \"jika booking lewat aplikasi, apakah slot sesuai jadwal dokter\", \"expected\": \"Jika saya udah booking dari aplikasi MySiloam, apakah saya pasti terdaftar slot yang sesuai dengan jadwal dokter?\" },\n",
    "    { \"query\": \"sudah booking di mysiloam, apakah saya terdaftar\", \"expected\": \"Saya sudah booking di aplikasi MySiloam, apakah saya sudah terdaftar?\" },\n",
    "    { \"query\": \"fitur apa saja di aplikasi mysiloam\", \"expected\": \"Fitur apa sajakah yang ada di aplikasi MySiloam?\" },\n",
    "    { \"query\": \"cara download aplikasi mysiloam\", \"expected\": \"Bagaimana cara download aplikasi MySiloam?\" },\n",
    "    { \"query\": \"apa itu menu rekam medis di mysiloam\", \"expected\": \"Apa itu menu rekam medis pada aplikasi MySiloam?\" },\n",
    "    { \"query\": \"cara aktivasi rekam medis\", \"expected\": \"Gimana caranya untuk buka atau aktivasi rekam medis?\" },\n",
    "    { \"query\": \"data apa saja ada di menu rekam medis\", \"expected\": \"Data apa saja yang tersedia di menu rekam medis di aplikasi MySiloam?\" },\n",
    "    { \"query\": \"data rawat inap yang ditampilkan apa saja\", \"expected\": \"Data apa saja yang tersedia untuk rawat inap?\" },\n",
    "    { \"query\": \"asuransi yang kerjasama dengan siloam apa saja\", \"expected\": \"Asuransi apa saja yang bekerja sama dengan Siloam?\" },\n",
    "    { \"query\": \"jika asuransi tidak kerjasama, apa yang harus dilakukan\", \"expected\": \"Apa yang harus dilakukan jika asuransi tidak bekerja sama dengan rumah sakit?\" },\n",
    "    { \"query\": \"cara bayar dengan asuransi\", \"expected\": \"Bagaimana alur dalam membayar dengan asuransi?\" },\n",
    "    { \"query\": \"berapa lama urusan asuransi sebelum konsultasi dokter\", \"expected\": \"Berapa lama waktu untuk pasien untuk mengurus asuransi sebelum konsultasi dengan dokter?\" },\n",
    "    { \"query\": \"apa yang harus disiapkan saat daftar dengan asuransi\", \"expected\": \"Apa saja yang harus dipersiapkan saat mendaftar ke rumah sakit menggunakan asuransi?\" },\n",
    "    { \"query\": \"data apa yang diperlukan saat pakai bpjs\", \"expected\": \"Data apa yang dibutuhkan saat menggunakan BPJS di Siloam Hospitals?\" },\n",
    "    { \"query\": \"apakah kondisi darurat perlu surat rujukan\", \"expected\": \"Apakah kondisi gawat darurat memerlukan Surat Rujukan dari Puskesmas/Klinik seperti mendaftar rawat jalan?\" },\n",
    "    { \"query\": \"rumah sakit siloam mana aja terima bpjs\", \"expected\": \"Rumah Sakit Siloam mana saja yang menerima pasien BPJS?\" },\n",
    "    { \"query\": \"bisakah daftar bpjs di hari h\", \"expected\": \"Apakah saya bisa daftar BPJS di hari H?\" },\n",
    "    { \"query\": \"jam operasional konsultasi bpjs\", \"expected\": \"Jam operasional untuk konsultasi BPJS?\" },\n",
    "    { \"query\": \"cara reschedule appointment bpjs\", \"expected\": \"Bagaimana cara melakukan reschedule appointment apabila saya sudah melakukan pendaftaran via website?\" },\n",
    "    { \"query\": \"masa berlaku surat rujukan bpjs\", \"expected\": \"Berapa lama masa berlaku Surat Rujukan yang diterbitkan Puskesmas/Klinik untuk berobat ke Rumah Sakit?\" },\n",
    "    { \"query\": \"cara buat appointment bpjs\", \"expected\": \"Bagaimana cara membuat appointment/ mendaftar untuk antrian untuk BPJS?\" },\n",
    "    { \"query\": \"cara dapatkan surat rujukan siloam\", \"expected\": \"Bagaimana cara mendapatkan surat rujukan untuk diperiksa oleh RS Siloam?\" },\n",
    "    { \"query\": \"dimana beli produk laboratorium online\", \"expected\": \"Dimana saya dapat membeli produk laboratorium / radiologi secara online?\" },\n",
    "    { \"query\": \"produk yang dicari tidak ada di website\", \"expected\": \"Produk yang saya cari tidak ada di website\" },\n",
    "    { \"query\": \"cek ketersediaan prosedur di rumah sakit\", \"expected\": \"Ketersediaan prosedur pada rumah sakit\" },\n",
    "    { \"query\": \"perlukah surat rujukan dokter untuk pembelian\", \"expected\": \"Apakah memerlukan surat rujukan dari dokter?\" },\n",
    "    { \"query\": \"apakah jadwal di website sudah sesuai\", \"expected\": \"Apakah jadwal yang ditampilkan sudah sesuai?\" },\n",
    "    { \"query\": \"biaya sudah termasuk konsultasi atau tidak\", \"expected\": \"Apakah biaya yang dibayarkan sudah termasuk dengan biaya konsultasi?\" },\n",
    "    { \"query\": \"cara atur ulang jadwal\", \"expected\": \"Bagaimana jika saya ingin mengatur jadwal ulang?\" },\n",
    "    { \"query\": \"ada batas atur ulang jadwal?\", \"expected\": \"Apakah ada limitasi untuk mengatur jadwal ulang?\" },\n",
    "    { \"query\": \"jika butuh layanan homecare, bagaimana caranya\", \"expected\": \"Bagaimana jika saya butuh layanan homecare?\" },\n",
    "    { \"query\": \"apakah bisa pesan homeservice dari semua siloam hospitals\", \"expected\": \"Apakah saya bisa melakukan pemesanan homeservice dari semua rumah sakit Siloam?\" },\n",
    "    { \"query\": \"cara minta pengembalian dana\", \"expected\": \"Bagaimana jika saya ingin pengembalian dana?\" },\n",
    "    { \"query\": \"pendaftaran radiologi di hari h boleh gak\", \"expected\": \"Apakah pendaftaran radiologi dapat dilakukan pada hari H?\" },\n",
    "    { \"query\": \"jam operasional radiologi emergency\", \"expected\": \"Jam operasional radiologi?\" },\n",
    "    { \"query\": \"jam operasional laboratorium untuk non-emergency\", \"expected\": \"Jam operasional laboratorium?\" },\n",
    "    { \"query\": \"lokasi radiologi atau laboratorium di rumah sakit\", \"expected\": \"Dimanakah lokasi radiologi/laboratorium?\" },\n",
    "    { \"query\": \"cara pembayaran untuk laboratorium\", \"expected\": \"Cara pembayaran?\" },\n",
    "    { \"query\": \"cara pemesanan laboratorium\", \"expected\": \"Cara pemesanan?\" },\n",
    "    { \"query\": \"bagaimana memasukkan diskon di pemesanan laboratorium\", \"expected\": \"Bagaimana cara memasukan diskon pada pemesanan laboratorium dan radiologi di Website?\" },\n",
    "    { \"query\": \"cara pesan telekonsultasi\", \"expected\": \"Bagaimana cara melakukan pemesanan Telekonsultasi?\" },\n",
    "    { \"query\": \"prosedur telekonsultasi seperti apa\", \"expected\": \"Bagaimana prosedur melakukan Telekonsultasi?\" },\n",
    "    { \"query\": \"setelah pesan telekonsultasi, apa yang didapat\", \"expected\": \"Apa yang akan didapatkan setelah melakukan pemesanan Telekonsultasi?\" },\n",
    "    { \"query\": \"dimana dapatkan link telekonsultasi\", \"expected\": \"Dimana saya bisa mendapatkan link Telekonsultasi?\" },\n",
    "    { \"query\": \"berapa lama durasi telekonsultasi\", \"expected\": \"Berapa lama durasi Telekonsultasi?\" },\n",
    "    { \"query\": \"dokter bisa apa saja di telekonsultasi\", \"expected\": \"Apa saja yang Dokter bisa lakukan dalam Teleconsultasi?\" },\n",
    "    { \"query\": \"jika salah pesan telekonsultasi, bagaimana caranya\", \"expected\": \"Bagaimana jika saya salah dalam melakukan pemesanan telekonsultasi?\" },\n",
    "    { \"query\": \"prosedur refund telekonsultasi\", \"expected\": \"Bagaimana prosedur untuk pengembalian dana yang sudah saya bayarkan pada pemesanan Telekonsultasi?\" },\n",
    "    { \"query\": \"bisa atur ulang jadwal telekonsultasi di hari h gak\", \"expected\": \"Apakah bisa melakukan atur ulang jadwal Telekonsultasi di hari H?\" },\n",
    "    { \"query\": \"jika dokter tidak hadir di telekonsultasi, apa yang dilakukan\", \"expected\": \"Bagaimana jika Dokter berhalangan untuk hadir ketika Teleconsultation saya?\" },\n",
    "    { \"query\": \"setelah telekonsultasi, bagaimana alur resep obat\", \"expected\": \"Bagaimana alur jika saya di resepkan obat oleh Dokter setelah selesai melakukan Telekonsultasi?\" },\n",
    "    { \"query\": \"jika ada rujukan untuk lab dan radiology, apa yang harus dilakukan\", \"expected\": \"Bagaimana jika ada rujukan untuk pemeriksaan Lab dan Radiology?\" },\n",
    "    { \"query\": \"cara pesan telechat\", \"expected\": \"Bagaimana cara melakukan pemesanan Telechat?\" }\n",
    "]\n"
   ]
  },
  {
   "cell_type": "code",
   "execution_count": null,
   "metadata": {},
   "outputs": [
    {
     "name": "stderr",
     "output_type": "stream",
     "text": [
      "/tmp/ipykernel_24812/1778145601.py:39: DeprecationWarning: `search` method is deprecated and will be removed in the future. Use `query_points` instead.\n",
      "  results = client.search(\n",
      "/tmp/ipykernel_24812/1778145601.py:51: DeprecationWarning: `search` method is deprecated and will be removed in the future. Use `query_points` instead.\n",
      "  results = client.search(\n",
      "/tmp/ipykernel_24812/1778145601.py:63: DeprecationWarning: `search` method is deprecated and will be removed in the future. Use `query_points` instead.\n",
      "  results = client.search(\n"
     ]
    },
    {
     "name": "stdout",
     "output_type": "stream",
     "text": [
      "#    Model            P@20    Recall@20    MRR@20    NDCG@20\n",
      "---  ---------------  ------  -----------  --------  ---------\n",
      "a    question_vector  0.050ᵇ  1.000ᵇ       0.967ᵇ    0.975ᵇ\n",
      "b    answer_vector    0.041   0.830        0.650     0.693\n",
      "c    combined_vector  0.049ᵇ  0.990ᵇ       0.955ᵇ    0.964ᵇ\n"
     ]
    }
   ],
   "source": [
    "# 1. Siapkan Qrels (Ground Truth)\n",
    "# -------------------------------\n",
    "# Cari index pertanyaan yang diharapkan di faq_df\n",
    "expected_indices = []\n",
    "for test_case in test_list:\n",
    "    expected_question = test_case[\"expected\"]\n",
    "    idx = faq_df[faq_df[\"question\"] == expected_question].index[0]\n",
    "    expected_indices.append(idx)\n",
    "\n",
    "# Buat DataFrame Qrels\n",
    "qrels_data = [{\n",
    "    \"query_id\": f\"test_{i}\",\n",
    "    \"doc_id\": str(idx),\n",
    "    \"score\": 10\n",
    "} for i, idx in enumerate(expected_indices)]\n",
    "\n",
    "qrels = Qrels.from_df(\n",
    "    pd.DataFrame(qrels_data),\n",
    "    q_id_col=\"query_id\",\n",
    "    doc_id_col=\"doc_id\",\n",
    "    score_col=\"score\",\n",
    ")\n",
    "\n",
    "# 2. Encode Test Queries\n",
    "# ----------------------\n",
    "test_queries = [case[\"query\"] for case in test_list]\n",
    "test_embeddings = model.encode(test_queries)\n",
    "\n",
    "# 3. Lakukan Pencarian untuk Setiap Vektor\n",
    "# ----------------------------------------\n",
    "question_run_dict = defaultdict(dict)\n",
    "answer_run_dict = defaultdict(dict)\n",
    "combined_run_dict = defaultdict(dict)\n",
    "\n",
    "for i, (query, query_emb) in enumerate(zip(test_queries, test_embeddings)):\n",
    "    query_id = f\"test_{i}\"\n",
    "    \n",
    "    # Search ke question vector\n",
    "    results = client.search(\n",
    "        collection_name=\"faq\",\n",
    "        query_vector=models.NamedVector(name=\"question\", vector=query_emb.tolist()),\n",
    "        limit=20,\n",
    "    )\n",
    "    for hit in results:\n",
    "        question_run_dict[query_id][str(hit.id)] = hit.score\n",
    "    \n",
    "    # Search ke answer vector\n",
    "    results = client.search(\n",
    "        collection_name=\"faq\",\n",
    "        query_vector=models.NamedVector(name=\"answer\", vector=query_emb.tolist()),\n",
    "        limit=20,\n",
    "    )\n",
    "    for hit in results:\n",
    "        answer_run_dict[query_id][str(hit.id)] = hit.score\n",
    "    \n",
    "    # Search ke question_answer vector\n",
    "    results = client.search(\n",
    "        collection_name=\"faq\",\n",
    "        query_vector=models.NamedVector(name=\"combined\", vector=query_emb.tolist()),\n",
    "        limit=20,\n",
    "    )\n",
    "    for hit in results:\n",
    "        combined_run_dict[query_id][str(hit.id)] = hit.score\n",
    "\n",
    "# 4. Buat Run dan Bandingkan\n",
    "# --------------------------\n",
    "question_run = Run(question_run_dict, name=\"question_vector\")\n",
    "answer_run = Run(answer_run_dict, name=\"answer_vector\")\n",
    "combined_run = Run(combined_run_dict, name=\"combined_vector\")\n",
    "\n",
    "report = compare(\n",
    "    qrels=qrels,\n",
    "    runs=[question_run, answer_run, combined_run],\n",
    "    metrics=[\"precision@20\", \"recall@20\", \"mrr@20\", \"ndcg@20\"],\n",
    ")\n",
    "\n",
    "print(report)"
   ]
  },
  {
   "cell_type": "code",
   "execution_count": null,
   "metadata": {},
   "outputs": [],
   "source": []
  }
 ],
 "metadata": {
  "kernelspec": {
   "display_name": "venv",
   "language": "python",
   "name": "python3"
  },
  "language_info": {
   "codemirror_mode": {
    "name": "ipython",
    "version": 3
   },
   "file_extension": ".py",
   "mimetype": "text/x-python",
   "name": "python",
   "nbconvert_exporter": "python",
   "pygments_lexer": "ipython3",
   "version": "3.12.1"
  }
 },
 "nbformat": 4,
 "nbformat_minor": 2
}
