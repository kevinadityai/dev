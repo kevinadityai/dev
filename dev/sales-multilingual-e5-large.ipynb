{
 "cells": [
  {
   "cell_type": "code",
   "execution_count": 3,
   "metadata": {},
   "outputs": [
    {
     "data": {
      "text/html": [
       "<div>\n",
       "<style scoped>\n",
       "    .dataframe tbody tr th:only-of-type {\n",
       "        vertical-align: middle;\n",
       "    }\n",
       "\n",
       "    .dataframe tbody tr th {\n",
       "        vertical-align: top;\n",
       "    }\n",
       "\n",
       "    .dataframe thead th {\n",
       "        text-align: right;\n",
       "    }\n",
       "</style>\n",
       "<table border=\"1\" class=\"dataframe\">\n",
       "  <thead>\n",
       "    <tr style=\"text-align: right;\">\n",
       "      <th></th>\n",
       "      <th>SalesItemId</th>\n",
       "      <th>SalesItemCode</th>\n",
       "      <th>SalesItemName</th>\n",
       "      <th>ActiveIngredientsName</th>\n",
       "      <th>Formularium</th>\n",
       "      <th>OrganizationId</th>\n",
       "    </tr>\n",
       "  </thead>\n",
       "  <tbody>\n",
       "    <tr>\n",
       "      <th>0</th>\n",
       "      <td>19000000062</td>\n",
       "      <td>MCD00062</td>\n",
       "      <td>2 MTM BODY LOTION (DR MUTTY)</td>\n",
       "      <td>KOSMETIK</td>\n",
       "      <td>NORMAL</td>\n",
       "      <td>19</td>\n",
       "    </tr>\n",
       "    <tr>\n",
       "      <th>1</th>\n",
       "      <td>100000000146092</td>\n",
       "      <td>KJD00002</td>\n",
       "      <td>2-4 (ZWAVEL ZALF) 30GRAM - N/A</td>\n",
       "      <td>SULFUR, SALICYLIC ACID</td>\n",
       "      <td>NORMAL</td>\n",
       "      <td>3,31</td>\n",
       "    </tr>\n",
       "    <tr>\n",
       "      <th>2</th>\n",
       "      <td>100000000146091</td>\n",
       "      <td>KJD00001</td>\n",
       "      <td>2-4 ZALF /GRAM - N/A</td>\n",
       "      <td>SULFUR, SALICYLIC ACID</td>\n",
       "      <td>NORMAL</td>\n",
       "      <td>3,5,31</td>\n",
       "    </tr>\n",
       "    <tr>\n",
       "      <th>3</th>\n",
       "      <td>100000000142499</td>\n",
       "      <td>DT00146R</td>\n",
       "      <td>3TC 150MG TAB</td>\n",
       "      <td>LAMIVUDINE</td>\n",
       "      <td>NORMAL</td>\n",
       "      <td>3,17,27,32,43</td>\n",
       "    </tr>\n",
       "    <tr>\n",
       "      <th>4</th>\n",
       "      <td>117701</td>\n",
       "      <td>LVD00001</td>\n",
       "      <td>3TC-HBV 100MG TAB</td>\n",
       "      <td>LAMIVUDINE</td>\n",
       "      <td>NORMAL</td>\n",
       "      <td>2,3,4,5,6,10,14,15,17,19,32,37,39</td>\n",
       "    </tr>\n",
       "  </tbody>\n",
       "</table>\n",
       "</div>"
      ],
      "text/plain": [
       "       SalesItemId SalesItemCode                   SalesItemName  \\\n",
       "0      19000000062      MCD00062    2 MTM BODY LOTION (DR MUTTY)   \n",
       "1  100000000146092      KJD00002  2-4 (ZWAVEL ZALF) 30GRAM - N/A   \n",
       "2  100000000146091      KJD00001            2-4 ZALF /GRAM - N/A   \n",
       "3  100000000142499      DT00146R                   3TC 150MG TAB   \n",
       "4           117701      LVD00001               3TC-HBV 100MG TAB   \n",
       "\n",
       "     ActiveIngredientsName Formularium                     OrganizationId  \n",
       "0                 KOSMETIK      NORMAL                                 19  \n",
       "1   SULFUR, SALICYLIC ACID      NORMAL                               3,31  \n",
       "2   SULFUR, SALICYLIC ACID      NORMAL                             3,5,31  \n",
       "3               LAMIVUDINE      NORMAL                      3,17,27,32,43  \n",
       "4               LAMIVUDINE      NORMAL  2,3,4,5,6,10,14,15,17,19,32,37,39  "
      ]
     },
     "execution_count": 3,
     "metadata": {},
     "output_type": "execute_result"
    }
   ],
   "source": [
    "import pandas as pd\n",
    "\n",
    "sales_df = pd.read_csv('../data/salesItem.csv', sep=';')\n",
    "sales_df = sales_df[:1000]\n",
    "sales_df.head()\n",
    "\n"
   ]
  },
  {
   "cell_type": "code",
   "execution_count": 2,
   "metadata": {},
   "outputs": [
    {
     "name": "stderr",
     "output_type": "stream",
     "text": [
      "/workspaces/dev/venv/lib/python3.12/site-packages/tqdm/auto.py:21: TqdmWarning: IProgress not found. Please update jupyter and ipywidgets. See https://ipywidgets.readthedocs.io/en/stable/user_install.html\n",
      "  from .autonotebook import tqdm as notebook_tqdm\n"
     ]
    }
   ],
   "source": [
    "from sentence_transformers import SentenceTransformer\n",
    "\n",
    "model = SentenceTransformer(\n",
    "    \"intfloat/multilingual-e5-large\",\n",
    "    trust_remote_code=True\n",
    ")"
   ]
  },
  {
   "cell_type": "code",
   "execution_count": 4,
   "metadata": {},
   "outputs": [
    {
     "name": "stdout",
     "output_type": "stream",
     "text": [
      "Question embeddings shape: (1000, 1024)\n",
      "Combined embeddings shape: (1000, 1024)\n",
      "Item SalesItemName Contain ActiveIngredientsName embeddings shape: (1000, 1024)\n"
     ]
    }
   ],
   "source": [
    "item_embeddings = model.encode(\n",
    "    sales_df[\"SalesItemName\"].tolist()\n",
    ")\n",
    "\n",
    "combined_texts = [\n",
    "    f\"{q}\\n{a}\" for q, a in zip(sales_df[\"SalesItemName\"], sales_df[\"ActiveIngredientsName\"])\n",
    "]\n",
    "\n",
    "combined_embeddings = model.encode(combined_texts)\n",
    "\n",
    "item_contain_texts = [\n",
    "    f\"item {item} contain {active}\"\n",
    "    for item, active in zip(sales_df[\"SalesItemName\"], sales_df[\"ActiveIngredientsName\"])\n",
    "]\n",
    "item_contain_embeddings = model.encode(item_contain_texts)\n",
    "\n",
    "print(\"Question embeddings shape:\", item_embeddings.shape)\n",
    "print(\"Combined embeddings shape:\", combined_embeddings.shape)\n",
    "print(\"Item SalesItemName Contain ActiveIngredientsName embeddings shape:\", item_contain_embeddings.shape)\n"
   ]
  },
  {
   "cell_type": "code",
   "execution_count": 5,
   "metadata": {},
   "outputs": [
    {
     "data": {
      "text/plain": [
       "array([[ 0.01636285,  0.02247839, -0.04719856, ...,  0.01911049,\n",
       "        -0.02705739, -0.01888753],\n",
       "       [ 0.01602141,  0.02800992, -0.0178182 , ..., -0.01012114,\n",
       "        -0.0473279 ,  0.00737774],\n",
       "       [ 0.03043888,  0.01910612, -0.01876098, ...,  0.00026839,\n",
       "        -0.03432632,  0.00722637],\n",
       "       ...,\n",
       "       [ 0.02297836,  0.0040061 , -0.01395704, ..., -0.00854408,\n",
       "        -0.02498958,  0.00151528],\n",
       "       [ 0.01183954,  0.00848651, -0.03614064, ..., -0.0005096 ,\n",
       "        -0.02317958, -0.0076756 ],\n",
       "       [ 0.00805693, -0.00040696, -0.02758144, ..., -0.0135575 ,\n",
       "        -0.02165226, -0.0047709 ]], dtype=float32)"
      ]
     },
     "execution_count": 5,
     "metadata": {},
     "output_type": "execute_result"
    }
   ],
   "source": [
    "item_embeddings"
   ]
  },
  {
   "cell_type": "code",
   "execution_count": 6,
   "metadata": {},
   "outputs": [
    {
     "data": {
      "text/plain": [
       "True"
      ]
     },
     "execution_count": 6,
     "metadata": {},
     "output_type": "execute_result"
    }
   ],
   "source": [
    "from qdrant_client import QdrantClient, models\n",
    "\n",
    "dimensions = 1024\n",
    "distance = models.Distance.COSINE\n",
    "\n",
    "client = QdrantClient(\"http://localhost:6333\")\n",
    "# client.delete_collection(\"sales-item\")\n",
    "client.create_collection(\n",
    "    collection_name=\"sales-item\",\n",
    "    vectors_config={\n",
    "        \"item\": models.VectorParams(\n",
    "            size=dimensions,\n",
    "            distance=distance,\n",
    "        ),\n",
    "        \"combined\": models.VectorParams(\n",
    "            size=dimensions,\n",
    "            distance=distance,\n",
    "        ),\n",
    "        \"item_contain\": models.VectorParams(\n",
    "            size=dimensions,\n",
    "            distance=distance,\n",
    "        ),\n",
    "    },\n",
    "    optimizers_config=models.OptimizersConfigDiff(\n",
    "        default_segment_number=2,\n",
    "        indexing_threshold=100,\n",
    "    ),\n",
    ")\n"
   ]
  },
  {
   "cell_type": "code",
   "execution_count": 7,
   "metadata": {},
   "outputs": [],
   "source": [
    "client.upload_collection(\n",
    "    collection_name=\"sales-item\",\n",
    "    vectors={\n",
    "        \"item\": item_embeddings,\n",
    "        \"combined\": combined_embeddings,\n",
    "        \"item_contain\": item_contain_embeddings\n",
    "    },\n",
    "    payload=sales_df.to_dict(orient=\"records\"),\n",
    "    ids=sales_df.index.tolist(),\n",
    "    batch_size=64,\n",
    ")\n"
   ]
  },
  {
   "cell_type": "code",
   "execution_count": 8,
   "metadata": {},
   "outputs": [
    {
     "data": {
      "text/plain": [
       "CountResult(count=1000)"
      ]
     },
     "execution_count": 8,
     "metadata": {},
     "output_type": "execute_result"
    }
   ],
   "source": [
    "client.count(\"sales-item\")"
   ]
  },
  {
   "cell_type": "code",
   "execution_count": 9,
   "metadata": {},
   "outputs": [
    {
     "data": {
      "text/plain": [
       "CollectionInfo(status=<CollectionStatus.GREEN: 'green'>, optimizer_status=<OptimizersStatusOneOf.OK: 'ok'>, vectors_count=None, indexed_vectors_count=3000, points_count=1000, segments_count=2, config=CollectionConfig(params=CollectionParams(vectors={'combined': VectorParams(size=1024, distance=<Distance.COSINE: 'Cosine'>, hnsw_config=None, quantization_config=None, on_disk=None, datatype=None, multivector_config=None), 'item': VectorParams(size=1024, distance=<Distance.COSINE: 'Cosine'>, hnsw_config=None, quantization_config=None, on_disk=None, datatype=None, multivector_config=None), 'item_contain': VectorParams(size=1024, distance=<Distance.COSINE: 'Cosine'>, hnsw_config=None, quantization_config=None, on_disk=None, datatype=None, multivector_config=None)}, shard_number=1, sharding_method=None, replication_factor=1, write_consistency_factor=1, read_fan_out_factor=None, on_disk_payload=True, sparse_vectors=None), hnsw_config=HnswConfig(m=16, ef_construct=100, full_scan_threshold=10000, max_indexing_threads=0, on_disk=False, payload_m=None), optimizer_config=OptimizersConfig(deleted_threshold=0.2, vacuum_min_vector_number=1000, default_segment_number=2, max_segment_size=None, memmap_threshold=None, indexing_threshold=100, flush_interval_sec=5, max_optimization_threads=None), wal_config=WalConfig(wal_capacity_mb=32, wal_segments_ahead=0), quantization_config=None, strict_mode_config=StrictModeConfig(enabled=False, max_query_limit=None, max_timeout=None, unindexed_filtering_retrieve=None, unindexed_filtering_update=None, search_max_hnsw_ef=None, search_allow_exact=None, search_max_oversampling=None, upsert_max_batchsize=None, max_collection_vector_size_bytes=None, read_rate_limit=None, write_rate_limit=None, max_collection_payload_size_bytes=None, filter_max_conditions=None, condition_max_size=None)), payload_schema={})"
      ]
     },
     "execution_count": 9,
     "metadata": {},
     "output_type": "execute_result"
    }
   ],
   "source": [
    "import time\n",
    "\n",
    "time.sleep(1.0)\n",
    "collection = client.get_collection(\"sales-item\")\n",
    "while collection.status != models.CollectionStatus.GREEN:\n",
    "    time.sleep(1.0)\n",
    "    collection = client.get_collection(\"sales-item\")\n",
    "    \n",
    "collection\n"
   ]
  },
  {
   "cell_type": "code",
   "execution_count": 21,
   "metadata": {},
   "outputs": [
    {
     "name": "stderr",
     "output_type": "stream",
     "text": [
      "/tmp/ipykernel_10329/481212035.py:35: DeprecationWarning: `search` method is deprecated and will be removed in the future. Use `query_points` instead.\n",
      "  item_results = client.search(\n",
      "/tmp/ipykernel_10329/481212035.py:50: DeprecationWarning: `search` method is deprecated and will be removed in the future. Use `query_points` instead.\n",
      "  combined_results = client.search(\n",
      "/tmp/ipykernel_10329/481212035.py:65: DeprecationWarning: `search` method is deprecated and will be removed in the future. Use `query_points` instead.\n",
      "  item_contain_results = client.search(\n"
     ]
    },
    {
     "name": "stdout",
     "output_type": "stream",
     "text": [
      "#    Model                  P@20    Recall@20  MRR@20    NDCG@20\n",
      "---  -------------------  ------  -----------  --------  ---------\n",
      "a    item_vectors           0.05            1  1.000ᵇᶜ   1.000ᵇᶜ\n",
      "b    combined_vectors       0.05            1  0.987     0.991\n",
      "c    item_contain_vector    0.05            1  0.995ᵇ    0.996ᵇ\n"
     ]
    }
   ],
   "source": [
    "import pandas as pd\n",
    "from collections import defaultdict\n",
    "from ranx import Qrels, Run, compare\n",
    "\n",
    "# 1. Prepare Qrels (Ground Truth)\n",
    "# -------------------------------\n",
    "# Each question should retrieve its own FAQ entry\n",
    "qrels_data = [{\n",
    "    \"query_id\": f\"q_{idx}\",\n",
    "    \"doc_id\": str(idx),\n",
    "    \"score\": 10  # Exact match\n",
    "} for idx in sales_df.index]\n",
    "\n",
    "qrels = Qrels.from_df(\n",
    "    pd.DataFrame(qrels_data),\n",
    "    q_id_col=\"query_id\",\n",
    "    doc_id_col=\"doc_id\",\n",
    "    score_col=\"score\",\n",
    ")\n",
    "\n",
    "# 2. Encode Questions\n",
    "# -------------------\n",
    "item_embeddings = model.encode(sales_df[\"SalesItemName\"].tolist())\n",
    "\n",
    "# 3. Create Search Runs\n",
    "# ---------------------\n",
    "item_run_dict = defaultdict(dict)\n",
    "combined_run_dict = defaultdict(dict)\n",
    "item_contain_run_dict = defaultdict(dict)\n",
    "\n",
    "for idx, (q_emb, row) in enumerate(zip(item_embeddings, sales_df.iterrows())):\n",
    "    query_id = f\"q_{idx}\"\n",
    "    \n",
    "    # Search against SalesItemName vectors\n",
    "    item_results = client.search(\n",
    "        collection_name=\"sales-item\",\n",
    "        query_vector=models.NamedVector(\n",
    "            name=\"item\",\n",
    "            vector=q_emb.tolist()\n",
    "        ),\n",
    "        limit=20,\n",
    "    )\n",
    "    for hit in item_results:\n",
    "        item_run_dict[query_id][str(hit.id)] = hit.score\n",
    "    \n",
    "    # Search against SalesItemName ActiveIngredientsName vectors\n",
    "    combined_results = client.search(\n",
    "        collection_name=\"sales-item\",\n",
    "        query_vector=models.NamedVector(\n",
    "            name=\"combined\",\n",
    "            vector=q_emb.tolist()\n",
    "        ),\n",
    "        limit=20,\n",
    "    )\n",
    "    for hit in combined_results:\n",
    "        combined_run_dict[query_id][str(hit.id)] = hit.score\n",
    "\n",
    "    # Search against \"item SalesItemName contain ActiveIngredientsName\" vectors\n",
    "    item_contain_results = client.search(\n",
    "        collection_name=\"sales-item\",\n",
    "        query_vector=models.NamedVector(\n",
    "            name=\"item_contain\", \n",
    "            vector=q_emb.tolist()\n",
    "        ),\n",
    "        limit=20,\n",
    "    )\n",
    "    for hit in item_contain_results:\n",
    "        item_contain_run_dict[query_id][str(hit.id)] = hit.score\n",
    "\n",
    "# 4. Create Run Objects\n",
    "# ---------------------\n",
    "item_run = Run(item_run_dict, name=\"item_vectors\")\n",
    "combined_run_run = Run(combined_run_dict, name=\"combined_vectors\")\n",
    "item_contain_run = Run(item_contain_run_dict, name=\"item_contain_vector\")\n",
    "\n",
    "# 5. Compare at k=20\n",
    "# ------------------\n",
    "report = compare(\n",
    "    qrels=qrels,\n",
    "    runs=[item_run, combined_run_run, item_contain_run],\n",
    "    metrics=[\"precision@20\", \"recall@20\", \"mrr@20\", \"ndcg@20\"],\n",
    ")\n",
    "\n",
    "print(report)"
   ]
  },
  {
   "cell_type": "code",
   "execution_count": null,
   "metadata": {},
   "outputs": [],
   "source": []
  }
 ],
 "metadata": {
  "kernelspec": {
   "display_name": "venv",
   "language": "python",
   "name": "python3"
  },
  "language_info": {
   "codemirror_mode": {
    "name": "ipython",
    "version": 3
   },
   "file_extension": ".py",
   "mimetype": "text/x-python",
   "name": "python",
   "nbconvert_exporter": "python",
   "pygments_lexer": "ipython3",
   "version": "3.12.1"
  }
 },
 "nbformat": 4,
 "nbformat_minor": 2
}
